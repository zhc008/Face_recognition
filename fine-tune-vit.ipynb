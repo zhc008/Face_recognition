{
 "cells": [
  {
   "cell_type": "code",
   "execution_count": 1,
   "id": "44e07a32",
   "metadata": {},
   "outputs": [],
   "source": [
    "import torch\n",
    "import torch.nn as nn\n",
    "from torchvision.models import vit_b_16, ViT_B_16_Weights\n",
    "from tqdm import tqdm\n",
    "\n",
    "model = vit_b_16(weights=ViT_B_16_Weights.IMAGENET1K_V1)\n",
    "model.heads = nn.Identity()"
   ]
  },
  {
   "cell_type": "code",
   "execution_count": 2,
   "id": "5765b20b",
   "metadata": {},
   "outputs": [],
   "source": [
    "embedding_dim = 768\n",
    "num_classes = 250  # the number of identity in the fine-tuning dataset\n",
    "\n",
    "class FaceIDModel(nn.Module):\n",
    "    def __init__(self, base, num_classes):\n",
    "        super().__init__()\n",
    "        self.base = base\n",
    "        self.classifier = nn.Sequential(\n",
    "            nn.Linear(embedding_dim, 512),\n",
    "            nn.BatchNorm1d(512),\n",
    "            nn.ReLU(),\n",
    "            nn.Linear(512, num_classes)\n",
    "        )\n",
    "    \n",
    "    def forward(self, x):\n",
    "        features = self.base(x)\n",
    "        return self.classifier(features)\n"
   ]
  },
  {
   "cell_type": "code",
   "execution_count": 3,
   "id": "48f82425",
   "metadata": {},
   "outputs": [
    {
     "name": "stdout",
     "output_type": "stream",
     "text": [
      "start training\n"
     ]
    },
    {
     "name": "stderr",
     "output_type": "stream",
     "text": [
      "fine-tuning::  10%|█         | 1/10 [02:01<18:12, 121.43s/it]"
     ]
    },
    {
     "name": "stdout",
     "output_type": "stream",
     "text": [
      "Epoch 1 | Train Acc: 0.78% | Loss: 5.4293\n"
     ]
    },
    {
     "name": "stderr",
     "output_type": "stream",
     "text": [
      "fine-tuning::  20%|██        | 2/10 [04:15<17:12, 129.11s/it]"
     ]
    },
    {
     "name": "stdout",
     "output_type": "stream",
     "text": [
      "Epoch 2 | Train Acc: 1.66% | Loss: 4.9742\n"
     ]
    },
    {
     "name": "stderr",
     "output_type": "stream",
     "text": [
      "fine-tuning::  30%|███       | 3/10 [07:03<17:06, 146.60s/it]"
     ]
    },
    {
     "name": "stdout",
     "output_type": "stream",
     "text": [
      "Epoch 3 | Train Acc: 3.94% | Loss: 4.8587\n"
     ]
    },
    {
     "name": "stderr",
     "output_type": "stream",
     "text": [
      "fine-tuning::  40%|████      | 4/10 [10:27<16:55, 169.25s/it]"
     ]
    },
    {
     "name": "stdout",
     "output_type": "stream",
     "text": [
      "Epoch 4 | Train Acc: 6.64% | Loss: 4.4627\n"
     ]
    },
    {
     "name": "stderr",
     "output_type": "stream",
     "text": [
      "fine-tuning::  50%|█████     | 5/10 [14:18<15:57, 191.54s/it]"
     ]
    },
    {
     "name": "stdout",
     "output_type": "stream",
     "text": [
      "Epoch 5 | Train Acc: 10.38% | Loss: 4.6953\n"
     ]
    },
    {
     "name": "stderr",
     "output_type": "stream",
     "text": [
      "fine-tuning::  60%|██████    | 6/10 [18:10<13:41, 205.26s/it]"
     ]
    },
    {
     "name": "stdout",
     "output_type": "stream",
     "text": [
      "Epoch 6 | Train Acc: 14.77% | Loss: 4.1910\n"
     ]
    },
    {
     "name": "stderr",
     "output_type": "stream",
     "text": [
      "fine-tuning::  70%|███████   | 7/10 [21:57<10:37, 212.51s/it]"
     ]
    },
    {
     "name": "stdout",
     "output_type": "stream",
     "text": [
      "Epoch 7 | Train Acc: 20.56% | Loss: 3.4828\n"
     ]
    },
    {
     "name": "stderr",
     "output_type": "stream",
     "text": [
      "fine-tuning::  80%|████████  | 8/10 [25:44<07:13, 216.95s/it]"
     ]
    },
    {
     "name": "stdout",
     "output_type": "stream",
     "text": [
      "Epoch 8 | Train Acc: 27.68% | Loss: 3.6351\n"
     ]
    },
    {
     "name": "stderr",
     "output_type": "stream",
     "text": [
      "fine-tuning::  90%|█████████ | 9/10 [29:31<03:40, 220.08s/it]"
     ]
    },
    {
     "name": "stdout",
     "output_type": "stream",
     "text": [
      "Epoch 9 | Train Acc: 34.11% | Loss: 2.8922\n"
     ]
    },
    {
     "name": "stderr",
     "output_type": "stream",
     "text": [
      "fine-tuning:: 100%|██████████| 10/10 [33:17<00:00, 199.72s/it]"
     ]
    },
    {
     "name": "stdout",
     "output_type": "stream",
     "text": [
      "Epoch 10 | Train Acc: 42.08% | Loss: 3.3783\n"
     ]
    },
    {
     "name": "stderr",
     "output_type": "stream",
     "text": [
      "\n"
     ]
    }
   ],
   "source": [
    "import torchvision.transforms as T\n",
    "from torchvision.datasets import ImageFolder\n",
    "from torch.utils.data import DataLoader\n",
    "\n",
    "transform = T.Compose([\n",
    "    T.Resize((224, 224)),\n",
    "    T.RandomHorizontalFlip(),\n",
    "    T.ColorJitter(0.2, 0.2, 0.2),\n",
    "    T.ToTensor(),\n",
    "    T.Normalize(mean=[0.485, 0.456, 0.406], std=[0.229, 0.224, 0.225])\n",
    "])\n",
    "\n",
    "train_ds = ImageFolder(\"data/vggface2_subset/train\", transform=transform)\n",
    "train_dl = DataLoader(train_ds, batch_size=32, shuffle=True, num_workers=4)\n",
    "\n",
    "model = FaceIDModel(model, num_classes=len(train_ds.classes)).cuda()\n",
    "criterion = nn.CrossEntropyLoss()\n",
    "optimizer = torch.optim.AdamW(model.parameters(), lr=3e-4)\n",
    "\n",
    "print(\"start training\")\n",
    "for epoch in tqdm(range(10), desc=\"fine-tuning:\"):\n",
    "    model.train()\n",
    "    total, correct = 0, 0\n",
    "    for x, y in train_dl:\n",
    "        x, y = x.cuda(), y.cuda()\n",
    "        logits = model(x)\n",
    "        loss = criterion(logits, y)\n",
    "\n",
    "        optimizer.zero_grad()\n",
    "        loss.backward()\n",
    "        optimizer.step()\n",
    "\n",
    "        preds = logits.argmax(1)\n",
    "        correct += (preds == y).sum().item()\n",
    "        total += y.size(0)\n",
    "    \n",
    "    acc = 100 * correct / total\n",
    "    print(f\"Epoch {epoch+1} | Train Acc: {acc:.2f}% | Loss: {loss.item():.4f}\")"
   ]
  },
  {
   "cell_type": "code",
   "execution_count": 4,
   "id": "2b9dc25d",
   "metadata": {},
   "outputs": [],
   "source": [
    "torch.save(model.base.state_dict(), \"vit_b_face_finetuned.pth\")\n",
    "torch.save(model.state_dict(), \"vit_b_face_finetuned_whole.pth\")"
   ]
  },
  {
   "cell_type": "code",
   "execution_count": 5,
   "id": "a56621a8",
   "metadata": {},
   "outputs": [
    {
     "name": "stderr",
     "output_type": "stream",
     "text": [
      "fine-tuning::  10%|█         | 1/10 [03:43<33:30, 223.34s/it]"
     ]
    },
    {
     "name": "stdout",
     "output_type": "stream",
     "text": [
      "Epoch 1 | Train Acc: 51.46% | Loss: 2.4806\n"
     ]
    },
    {
     "name": "stderr",
     "output_type": "stream",
     "text": [
      "fine-tuning::  20%|██        | 2/10 [07:27<29:49, 223.71s/it]"
     ]
    },
    {
     "name": "stdout",
     "output_type": "stream",
     "text": [
      "Epoch 2 | Train Acc: 62.94% | Loss: 1.6940\n"
     ]
    },
    {
     "name": "stderr",
     "output_type": "stream",
     "text": [
      "fine-tuning::  30%|███       | 3/10 [10:36<24:14, 207.83s/it]"
     ]
    },
    {
     "name": "stdout",
     "output_type": "stream",
     "text": [
      "Epoch 3 | Train Acc: 72.69% | Loss: 2.2148\n"
     ]
    },
    {
     "name": "stderr",
     "output_type": "stream",
     "text": [
      "fine-tuning::  40%|████      | 4/10 [13:32<19:31, 195.25s/it]"
     ]
    },
    {
     "name": "stdout",
     "output_type": "stream",
     "text": [
      "Epoch 4 | Train Acc: 82.32% | Loss: 1.5436\n"
     ]
    },
    {
     "name": "stderr",
     "output_type": "stream",
     "text": [
      "fine-tuning::  50%|█████     | 5/10 [16:32<15:49, 189.94s/it]"
     ]
    },
    {
     "name": "stdout",
     "output_type": "stream",
     "text": [
      "Epoch 5 | Train Acc: 91.12% | Loss: 0.8930\n"
     ]
    },
    {
     "name": "stderr",
     "output_type": "stream",
     "text": [
      "fine-tuning::  60%|██████    | 6/10 [19:33<12:27, 186.85s/it]"
     ]
    },
    {
     "name": "stdout",
     "output_type": "stream",
     "text": [
      "Epoch 6 | Train Acc: 97.06% | Loss: 0.6144\n"
     ]
    },
    {
     "name": "stderr",
     "output_type": "stream",
     "text": [
      "fine-tuning::  70%|███████   | 7/10 [22:30<09:11, 183.72s/it]"
     ]
    },
    {
     "name": "stdout",
     "output_type": "stream",
     "text": [
      "Epoch 7 | Train Acc: 99.52% | Loss: 0.1627\n"
     ]
    },
    {
     "name": "stderr",
     "output_type": "stream",
     "text": [
      "fine-tuning::  80%|████████  | 8/10 [25:26<06:02, 181.11s/it]"
     ]
    },
    {
     "name": "stdout",
     "output_type": "stream",
     "text": [
      "Epoch 8 | Train Acc: 99.95% | Loss: 0.1931\n"
     ]
    },
    {
     "name": "stderr",
     "output_type": "stream",
     "text": [
      "fine-tuning::  90%|█████████ | 9/10 [28:10<02:55, 175.81s/it]"
     ]
    },
    {
     "name": "stdout",
     "output_type": "stream",
     "text": [
      "Epoch 9 | Train Acc: 99.97% | Loss: 0.0921\n"
     ]
    },
    {
     "name": "stderr",
     "output_type": "stream",
     "text": [
      "fine-tuning:: 100%|██████████| 10/10 [30:53<00:00, 185.30s/it]"
     ]
    },
    {
     "name": "stdout",
     "output_type": "stream",
     "text": [
      "Epoch 10 | Train Acc: 100.00% | Loss: 0.0664\n"
     ]
    },
    {
     "name": "stderr",
     "output_type": "stream",
     "text": [
      "\n"
     ]
    }
   ],
   "source": [
    "for epoch in tqdm(range(10), desc=\"fine-tuning:\"):\n",
    "    model.train()\n",
    "    total, correct = 0, 0\n",
    "    for x, y in train_dl:\n",
    "        x, y = x.cuda(), y.cuda()\n",
    "        logits = model(x)\n",
    "        loss = criterion(logits, y)\n",
    "\n",
    "        optimizer.zero_grad()\n",
    "        loss.backward()\n",
    "        optimizer.step()\n",
    "\n",
    "        preds = logits.argmax(1)\n",
    "        correct += (preds == y).sum().item()\n",
    "        total += y.size(0)\n",
    "    \n",
    "    acc = 100 * correct / total\n",
    "    print(f\"Epoch {epoch+1} | Train Acc: {acc:.2f}% | Loss: {loss.item():.4f}\")"
   ]
  },
  {
   "cell_type": "code",
   "execution_count": 6,
   "id": "34802b53",
   "metadata": {},
   "outputs": [],
   "source": [
    "torch.save(model.base.state_dict(), \"vit_b_face_finetuned20.pth\")\n",
    "torch.save(model.state_dict(), \"vit_b_face_finetuned20_whole.pth\")"
   ]
  },
  {
   "cell_type": "code",
   "execution_count": 7,
   "id": "831fdbb3",
   "metadata": {},
   "outputs": [],
   "source": [
    "import torchvision.transforms as T\n",
    "from torchvision.datasets import ImageFolder\n",
    "from torch.utils.data import DataLoader\n",
    "\n",
    "transform = T.Compose([\n",
    "    T.Resize((224, 224)),\n",
    "    T.ToTensor(),\n",
    "    T.Normalize(mean=[0.485, 0.456, 0.406], std=[0.229, 0.224, 0.225])\n",
    "])\n",
    "val_ds = ImageFolder(\"data/vggface2_subset/train_val\", transform=transform)\n",
    "val_dl = DataLoader(val_ds, batch_size=32, shuffle=False, num_workers=4)"
   ]
  },
  {
   "cell_type": "code",
   "execution_count": 8,
   "id": "dba0282c",
   "metadata": {},
   "outputs": [
    {
     "name": "stderr",
     "output_type": "stream",
     "text": [
      "Evaluating: 100%|██████████| 79/79 [00:30<00:00,  2.62it/s]"
     ]
    },
    {
     "name": "stdout",
     "output_type": "stream",
     "text": [
      "\n",
      "Top-1 Accuracy on VGGFace2 Val: 0.20%\n"
     ]
    },
    {
     "name": "stderr",
     "output_type": "stream",
     "text": [
      "\n"
     ]
    }
   ],
   "source": [
    "# 10 epoch fine-tune\n",
    "model = vit_b_16(weights=ViT_B_16_Weights.IMAGENET1K_V1)\n",
    "model.heads = nn.Identity()\n",
    "model.load_state_dict(torch.load(\"vit_b_face_finetuned.pth\"))\n",
    "model = FaceIDModel(model, num_classes=len(val_ds.classes))\n",
    "model = model.cuda()\n",
    "model.eval()\n",
    "correct = 0\n",
    "total = 0\n",
    "\n",
    "with torch.no_grad():\n",
    "    for x, y in tqdm(val_dl, desc=\"Evaluating\"):\n",
    "        x, y = x.cuda(), y.cuda()\n",
    "        logits = model(x)\n",
    "        preds = torch.argmax(logits, dim=1)\n",
    "        correct += (preds == y).sum().item()\n",
    "        total += y.size(0)\n",
    "\n",
    "acc = correct / total\n",
    "print(f\"\\nTop-1 Accuracy on VGGFace2 Val: {acc * 100:.2f}%\")"
   ]
  },
  {
   "cell_type": "code",
   "execution_count": 9,
   "id": "52f40add",
   "metadata": {},
   "outputs": [
    {
     "name": "stderr",
     "output_type": "stream",
     "text": [
      "Evaluating: 100%|██████████| 79/79 [00:30<00:00,  2.57it/s]"
     ]
    },
    {
     "name": "stdout",
     "output_type": "stream",
     "text": [
      "\n",
      "Top-1 Accuracy on VGGFace2 Val: 0.40%\n"
     ]
    },
    {
     "name": "stderr",
     "output_type": "stream",
     "text": [
      "\n"
     ]
    }
   ],
   "source": [
    "# 20 epoch fine-tune\n",
    "model = vit_b_16(weights=ViT_B_16_Weights.IMAGENET1K_V1)\n",
    "model.heads = nn.Identity()\n",
    "model.load_state_dict(torch.load(\"vit_b_face_finetuned20.pth\"))\n",
    "model = FaceIDModel(model, num_classes=len(val_ds.classes))\n",
    "model = model.cuda()\n",
    "model.eval()\n",
    "correct = 0\n",
    "total = 0\n",
    "\n",
    "with torch.no_grad():\n",
    "    for x, y in tqdm(val_dl, desc=\"Evaluating\"):\n",
    "        x, y = x.cuda(), y.cuda()\n",
    "        logits = model(x)\n",
    "        preds = torch.argmax(logits, dim=1)\n",
    "        correct += (preds == y).sum().item()\n",
    "        total += y.size(0)\n",
    "\n",
    "acc = correct / total\n",
    "print(f\"\\nTop-1 Accuracy on VGGFace2 Val: {acc * 100:.2f}%\")"
   ]
  },
  {
   "cell_type": "code",
   "execution_count": 10,
   "id": "318535f5",
   "metadata": {},
   "outputs": [
    {
     "name": "stderr",
     "output_type": "stream",
     "text": [
      "Evaluating: 100%|██████████| 79/79 [00:26<00:00,  2.99it/s]"
     ]
    },
    {
     "name": "stdout",
     "output_type": "stream",
     "text": [
      "\n",
      "Top-1 Accuracy on VGGFace2 Val: 20.92%\n"
     ]
    },
    {
     "name": "stderr",
     "output_type": "stream",
     "text": [
      "\n"
     ]
    }
   ],
   "source": [
    "# 10 epoch fine-tune\n",
    "model = vit_b_16(weights=ViT_B_16_Weights.IMAGENET1K_V1)\n",
    "model.heads = nn.Identity()\n",
    "model = FaceIDModel(model, num_classes=len(val_ds.classes))\n",
    "model.load_state_dict(torch.load(\"vit_b_face_finetuned_whole.pth\"))\n",
    "model = model.cuda()\n",
    "model.eval()\n",
    "correct = 0\n",
    "total = 0\n",
    "\n",
    "with torch.no_grad():\n",
    "    for x, y in tqdm(val_dl, desc=\"Evaluating\"):\n",
    "        x, y = x.cuda(), y.cuda()\n",
    "        logits = model(x)\n",
    "        preds = torch.argmax(logits, dim=1)\n",
    "        correct += (preds == y).sum().item()\n",
    "        total += y.size(0)\n",
    "\n",
    "acc = correct / total\n",
    "print(f\"\\nTop-1 Accuracy on VGGFace2 Val: {acc * 100:.2f}%\")"
   ]
  },
  {
   "cell_type": "code",
   "execution_count": 11,
   "id": "0c45e1a2",
   "metadata": {},
   "outputs": [
    {
     "name": "stderr",
     "output_type": "stream",
     "text": [
      "Evaluating: 100%|██████████| 79/79 [00:25<00:00,  3.09it/s]"
     ]
    },
    {
     "name": "stdout",
     "output_type": "stream",
     "text": [
      "\n",
      "Top-1 Accuracy on VGGFace2 Val: 33.16%\n"
     ]
    },
    {
     "name": "stderr",
     "output_type": "stream",
     "text": [
      "\n"
     ]
    }
   ],
   "source": [
    "# 10 epoch fine-tune\n",
    "model = vit_b_16(weights=ViT_B_16_Weights.IMAGENET1K_V1)\n",
    "model.heads = nn.Identity()\n",
    "model = FaceIDModel(model, num_classes=len(val_ds.classes))\n",
    "model.load_state_dict(torch.load(\"vit_b_face_finetuned20_whole.pth\"))\n",
    "model = model.cuda()\n",
    "model.eval()\n",
    "correct = 0\n",
    "total = 0\n",
    "\n",
    "with torch.no_grad():\n",
    "    for x, y in tqdm(val_dl, desc=\"Evaluating\"):\n",
    "        x, y = x.cuda(), y.cuda()\n",
    "        logits = model(x)\n",
    "        preds = torch.argmax(logits, dim=1)\n",
    "        correct += (preds == y).sum().item()\n",
    "        total += y.size(0)\n",
    "\n",
    "acc = correct / total\n",
    "print(f\"\\nTop-1 Accuracy on VGGFace2 Val: {acc * 100:.2f}%\")"
   ]
  },
  {
   "cell_type": "code",
   "execution_count": null,
   "id": "4193877c",
   "metadata": {},
   "outputs": [],
   "source": []
  }
 ],
 "metadata": {
  "kernelspec": {
   "display_name": "Python 3",
   "language": "python",
   "name": "python3"
  },
  "language_info": {
   "codemirror_mode": {
    "name": "ipython",
    "version": 3
   },
   "file_extension": ".py",
   "mimetype": "text/x-python",
   "name": "python",
   "nbconvert_exporter": "python",
   "pygments_lexer": "ipython3",
   "version": "3.11.0"
  }
 },
 "nbformat": 4,
 "nbformat_minor": 5
}
