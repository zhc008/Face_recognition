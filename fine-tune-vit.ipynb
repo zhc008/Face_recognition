{
 "cells": [
  {
   "cell_type": "code",
   "execution_count": 2,
   "id": "44e07a32",
   "metadata": {},
   "outputs": [],
   "source": [
    "import torch\n",
    "import torch.nn as nn\n",
    "from torchvision.models import vit_b_16, ViT_B_16_Weights\n",
    "from tqdm import tqdm\n",
    "\n",
    "model = vit_b_16(weights=ViT_B_16_Weights.IMAGENET1K_V1)\n",
    "model.heads = nn.Identity()"
   ]
  },
  {
   "cell_type": "code",
   "execution_count": 3,
   "id": "5765b20b",
   "metadata": {},
   "outputs": [],
   "source": [
    "embedding_dim = 768\n",
    "num_classes = 250  # the number of identity in the fine-tuning dataset\n",
    "\n",
    "class FaceIDModel(nn.Module):\n",
    "    def __init__(self, base, num_classes):\n",
    "        super().__init__()\n",
    "        self.base = base\n",
    "        self.classifier = nn.Sequential(\n",
    "            nn.Linear(embedding_dim, 512),\n",
    "            nn.BatchNorm1d(512),\n",
    "            nn.ReLU(),\n",
    "            nn.Linear(512, num_classes)\n",
    "        )\n",
    "    \n",
    "    def forward(self, x):\n",
    "        features = self.base(x)\n",
    "        return self.classifier(features)\n"
   ]
  },
  {
   "cell_type": "code",
   "execution_count": 4,
   "id": "48f82425",
   "metadata": {},
   "outputs": [
    {
     "name": "stdout",
     "output_type": "stream",
     "text": [
      "start training\n"
     ]
    },
    {
     "name": "stderr",
     "output_type": "stream",
     "text": [
      "fine-tuning::  10%|█         | 1/10 [02:06<18:56, 126.33s/it]"
     ]
    },
    {
     "name": "stdout",
     "output_type": "stream",
     "text": [
      "Epoch 1 | Train Acc: 0.64% | Loss: 5.4768\n"
     ]
    },
    {
     "name": "stderr",
     "output_type": "stream",
     "text": [
      "fine-tuning::  20%|██        | 2/10 [04:57<20:23, 152.95s/it]"
     ]
    },
    {
     "name": "stdout",
     "output_type": "stream",
     "text": [
      "Epoch 2 | Train Acc: 2.93% | Loss: 5.3049\n"
     ]
    },
    {
     "name": "stderr",
     "output_type": "stream",
     "text": [
      "fine-tuning::  30%|███       | 3/10 [08:07<19:47, 169.63s/it]"
     ]
    },
    {
     "name": "stdout",
     "output_type": "stream",
     "text": [
      "Epoch 3 | Train Acc: 5.42% | Loss: 4.9678\n"
     ]
    },
    {
     "name": "stderr",
     "output_type": "stream",
     "text": [
      "fine-tuning::  40%|████      | 4/10 [11:34<18:25, 184.26s/it]"
     ]
    },
    {
     "name": "stdout",
     "output_type": "stream",
     "text": [
      "Epoch 4 | Train Acc: 8.27% | Loss: 4.2354\n"
     ]
    },
    {
     "name": "stderr",
     "output_type": "stream",
     "text": [
      "fine-tuning::  50%|█████     | 5/10 [15:13<16:23, 196.79s/it]"
     ]
    },
    {
     "name": "stdout",
     "output_type": "stream",
     "text": [
      "Epoch 5 | Train Acc: 12.96% | Loss: 4.0116\n"
     ]
    },
    {
     "name": "stderr",
     "output_type": "stream",
     "text": [
      "fine-tuning::  60%|██████    | 6/10 [18:49<13:34, 203.63s/it]"
     ]
    },
    {
     "name": "stdout",
     "output_type": "stream",
     "text": [
      "Epoch 6 | Train Acc: 17.87% | Loss: 3.6797\n"
     ]
    },
    {
     "name": "stderr",
     "output_type": "stream",
     "text": [
      "fine-tuning::  70%|███████   | 7/10 [22:32<10:29, 209.88s/it]"
     ]
    },
    {
     "name": "stdout",
     "output_type": "stream",
     "text": [
      "Epoch 7 | Train Acc: 23.07% | Loss: 3.7828\n"
     ]
    },
    {
     "name": "stderr",
     "output_type": "stream",
     "text": [
      "fine-tuning::  80%|████████  | 8/10 [26:16<07:08, 214.18s/it]"
     ]
    },
    {
     "name": "stdout",
     "output_type": "stream",
     "text": [
      "Epoch 8 | Train Acc: 29.65% | Loss: 3.1489\n"
     ]
    },
    {
     "name": "stderr",
     "output_type": "stream",
     "text": [
      "fine-tuning::  90%|█████████ | 9/10 [29:52<03:34, 214.86s/it]"
     ]
    },
    {
     "name": "stdout",
     "output_type": "stream",
     "text": [
      "Epoch 9 | Train Acc: 38.50% | Loss: 3.1636\n"
     ]
    },
    {
     "name": "stderr",
     "output_type": "stream",
     "text": [
      "fine-tuning:: 100%|██████████| 10/10 [33:31<00:00, 201.12s/it]"
     ]
    },
    {
     "name": "stdout",
     "output_type": "stream",
     "text": [
      "Epoch 10 | Train Acc: 47.02% | Loss: 1.9352\n"
     ]
    },
    {
     "name": "stderr",
     "output_type": "stream",
     "text": [
      "\n"
     ]
    }
   ],
   "source": [
    "import torchvision.transforms as T\n",
    "from torchvision.datasets import ImageFolder\n",
    "from torch.utils.data import DataLoader\n",
    "\n",
    "transform = T.Compose([\n",
    "    T.Resize((224, 224)),\n",
    "    T.RandomHorizontalFlip(),\n",
    "    T.ColorJitter(0.2, 0.2, 0.2),\n",
    "    T.ToTensor(),\n",
    "    T.Normalize(mean=[0.485, 0.456, 0.406], std=[0.229, 0.224, 0.225])\n",
    "])\n",
    "\n",
    "train_ds = ImageFolder(\"data/vggface2_subset/train\", transform=transform)\n",
    "train_dl = DataLoader(train_ds, batch_size=32, shuffle=True, num_workers=4)\n",
    "\n",
    "model = FaceIDModel(model, num_classes=len(train_ds.classes)).cuda()\n",
    "criterion = nn.CrossEntropyLoss()\n",
    "optimizer = torch.optim.AdamW(model.parameters(), lr=3e-4)\n",
    "\n",
    "print(\"start training\")\n",
    "for epoch in tqdm(range(10), desc=\"fine-tuning:\"):\n",
    "    model.train()\n",
    "    total, correct = 0, 0\n",
    "    for x, y in train_dl:\n",
    "        x, y = x.cuda(), y.cuda()\n",
    "        logits = model(x)\n",
    "        loss = criterion(logits, y)\n",
    "\n",
    "        optimizer.zero_grad()\n",
    "        loss.backward()\n",
    "        optimizer.step()\n",
    "\n",
    "        preds = logits.argmax(1)\n",
    "        correct += (preds == y).sum().item()\n",
    "        total += y.size(0)\n",
    "    \n",
    "    acc = 100 * correct / total\n",
    "    print(f\"Epoch {epoch+1} | Train Acc: {acc:.2f}% | Loss: {loss.item():.4f}\")"
   ]
  },
  {
   "cell_type": "code",
   "execution_count": 5,
   "id": "2b9dc25d",
   "metadata": {},
   "outputs": [],
   "source": [
    "torch.save(model.base.state_dict(), \"vit_b_face_finetuned.pth\")"
   ]
  },
  {
   "cell_type": "code",
   "execution_count": 6,
   "id": "a56621a8",
   "metadata": {},
   "outputs": [
    {
     "name": "stderr",
     "output_type": "stream",
     "text": [
      "fine-tuning::  10%|█         | 1/10 [02:23<21:35, 144.00s/it]"
     ]
    },
    {
     "name": "stdout",
     "output_type": "stream",
     "text": [
      "Epoch 1 | Train Acc: 55.57% | Loss: 3.1372\n"
     ]
    },
    {
     "name": "stderr",
     "output_type": "stream",
     "text": [
      "fine-tuning::  20%|██        | 2/10 [05:46<23:47, 178.39s/it]"
     ]
    },
    {
     "name": "stdout",
     "output_type": "stream",
     "text": [
      "Epoch 2 | Train Acc: 66.27% | Loss: 1.8770\n"
     ]
    },
    {
     "name": "stderr",
     "output_type": "stream",
     "text": [
      "fine-tuning::  30%|███       | 3/10 [09:26<23:01, 197.38s/it]"
     ]
    },
    {
     "name": "stdout",
     "output_type": "stream",
     "text": [
      "Epoch 3 | Train Acc: 75.92% | Loss: 1.4154\n"
     ]
    },
    {
     "name": "stderr",
     "output_type": "stream",
     "text": [
      "fine-tuning::  40%|████      | 4/10 [13:14<20:56, 209.35s/it]"
     ]
    },
    {
     "name": "stdout",
     "output_type": "stream",
     "text": [
      "Epoch 4 | Train Acc: 86.86% | Loss: 0.8995\n"
     ]
    },
    {
     "name": "stderr",
     "output_type": "stream",
     "text": [
      "fine-tuning::  50%|█████     | 5/10 [17:01<17:59, 215.95s/it]"
     ]
    },
    {
     "name": "stdout",
     "output_type": "stream",
     "text": [
      "Epoch 5 | Train Acc: 93.49% | Loss: 0.3825\n"
     ]
    },
    {
     "name": "stderr",
     "output_type": "stream",
     "text": [
      "fine-tuning::  60%|██████    | 6/10 [20:49<14:40, 220.07s/it]"
     ]
    },
    {
     "name": "stdout",
     "output_type": "stream",
     "text": [
      "Epoch 6 | Train Acc: 98.22% | Loss: 0.7334\n"
     ]
    },
    {
     "name": "stderr",
     "output_type": "stream",
     "text": [
      "fine-tuning::  70%|███████   | 7/10 [24:58<11:27, 229.27s/it]"
     ]
    },
    {
     "name": "stdout",
     "output_type": "stream",
     "text": [
      "Epoch 7 | Train Acc: 99.73% | Loss: 0.3040\n"
     ]
    },
    {
     "name": "stderr",
     "output_type": "stream",
     "text": [
      "fine-tuning::  80%|████████  | 8/10 [28:48<07:39, 229.70s/it]"
     ]
    },
    {
     "name": "stdout",
     "output_type": "stream",
     "text": [
      "Epoch 8 | Train Acc: 99.98% | Loss: 0.2130\n"
     ]
    },
    {
     "name": "stderr",
     "output_type": "stream",
     "text": [
      "fine-tuning::  90%|█████████ | 9/10 [32:46<03:52, 232.09s/it]"
     ]
    },
    {
     "name": "stdout",
     "output_type": "stream",
     "text": [
      "Epoch 9 | Train Acc: 99.98% | Loss: 0.0570\n"
     ]
    },
    {
     "name": "stderr",
     "output_type": "stream",
     "text": [
      "fine-tuning:: 100%|██████████| 10/10 [36:33<00:00, 219.38s/it]"
     ]
    },
    {
     "name": "stdout",
     "output_type": "stream",
     "text": [
      "Epoch 10 | Train Acc: 100.00% | Loss: 0.0521\n"
     ]
    },
    {
     "name": "stderr",
     "output_type": "stream",
     "text": [
      "\n"
     ]
    }
   ],
   "source": [
    "for epoch in tqdm(range(10), desc=\"fine-tuning:\"):\n",
    "    model.train()\n",
    "    total, correct = 0, 0\n",
    "    for x, y in train_dl:\n",
    "        x, y = x.cuda(), y.cuda()\n",
    "        logits = model(x)\n",
    "        loss = criterion(logits, y)\n",
    "\n",
    "        optimizer.zero_grad()\n",
    "        loss.backward()\n",
    "        optimizer.step()\n",
    "\n",
    "        preds = logits.argmax(1)\n",
    "        correct += (preds == y).sum().item()\n",
    "        total += y.size(0)\n",
    "    \n",
    "    acc = 100 * correct / total\n",
    "    print(f\"Epoch {epoch+1} | Train Acc: {acc:.2f}% | Loss: {loss.item():.4f}\")"
   ]
  },
  {
   "cell_type": "code",
   "execution_count": 9,
   "id": "34802b53",
   "metadata": {},
   "outputs": [],
   "source": [
    "torch.save(model.base.state_dict(), \"vit_b_face_finetuned20.pth\")"
   ]
  },
  {
   "cell_type": "code",
   "execution_count": 18,
   "id": "831fdbb3",
   "metadata": {},
   "outputs": [],
   "source": [
    "val_ds = ImageFolder(\"data/vggface2/val\", transform=transform)\n",
    "val_dl = DataLoader(val_ds, batch_size=32, shuffle=False, num_workers=4)"
   ]
  },
  {
   "cell_type": "code",
   "execution_count": null,
   "id": "dba0282c",
   "metadata": {},
   "outputs": [
    {
     "name": "stderr",
     "output_type": "stream",
     "text": [
      "Evaluating: 100%|██████████| 666/666 [03:06<00:00,  3.56it/s]"
     ]
    },
    {
     "name": "stdout",
     "output_type": "stream",
     "text": [
      "\n",
      "Top-1 Accuracy on VGGFace2 Val: 0.54%\n"
     ]
    },
    {
     "name": "stderr",
     "output_type": "stream",
     "text": [
      "\n"
     ]
    }
   ],
   "source": [
    "# 10 epoch fine-tune\n",
    "model = vit_b_16(weights=ViT_B_16_Weights.IMAGENET1K_V1)\n",
    "model.heads = nn.Identity()\n",
    "model.load_state_dict(torch.load(\"vit_b_face_finetuned.pth\"))\n",
    "model = FaceIDModel(model, num_classes=len(train_ds.classes))\n",
    "model = model.cuda()\n",
    "model.eval()\n",
    "correct = 0\n",
    "total = 0\n",
    "\n",
    "with torch.no_grad():\n",
    "    for x, y in tqdm(val_dl, desc=\"Evaluating\"):\n",
    "        x, y = x.cuda(), y.cuda()\n",
    "        logits = model(x)\n",
    "        preds = torch.argmax(logits, dim=1)\n",
    "        correct += (preds == y).sum().item()\n",
    "        total += y.size(0)\n",
    "\n",
    "acc = correct / total\n",
    "print(f\"\\nTop-1 Accuracy on VGGFace2 Val: {acc * 100:.2f}%\")"
   ]
  },
  {
   "cell_type": "code",
   "execution_count": 19,
   "id": "52f40add",
   "metadata": {},
   "outputs": [
    {
     "name": "stderr",
     "output_type": "stream",
     "text": [
      "Evaluating: 100%|██████████| 666/666 [03:37<00:00,  3.06it/s]"
     ]
    },
    {
     "name": "stdout",
     "output_type": "stream",
     "text": [
      "\n",
      "Top-1 Accuracy on VGGFace2 Val: 0.79%\n"
     ]
    },
    {
     "name": "stderr",
     "output_type": "stream",
     "text": [
      "\n"
     ]
    }
   ],
   "source": [
    "# 20 epoch fine-tune\n",
    "model = vit_b_16(weights=ViT_B_16_Weights.IMAGENET1K_V1)\n",
    "model.heads = nn.Identity()\n",
    "model.load_state_dict(torch.load(\"vit_b_face_finetuned20.pth\"))\n",
    "model = FaceIDModel(model, num_classes=len(train_ds.classes))\n",
    "model = model.cuda()\n",
    "model.eval()\n",
    "correct = 0\n",
    "total = 0\n",
    "\n",
    "with torch.no_grad():\n",
    "    for x, y in tqdm(val_dl, desc=\"Evaluating\"):\n",
    "        x, y = x.cuda(), y.cuda()\n",
    "        logits = model(x)\n",
    "        preds = torch.argmax(logits, dim=1)\n",
    "        correct += (preds == y).sum().item()\n",
    "        total += y.size(0)\n",
    "\n",
    "acc = correct / total\n",
    "print(f\"\\nTop-1 Accuracy on VGGFace2 Val: {acc * 100:.2f}%\")"
   ]
  },
  {
   "cell_type": "code",
   "execution_count": null,
   "id": "318535f5",
   "metadata": {},
   "outputs": [],
   "source": []
  }
 ],
 "metadata": {
  "kernelspec": {
   "display_name": "Python 3",
   "language": "python",
   "name": "python3"
  },
  "language_info": {
   "codemirror_mode": {
    "name": "ipython",
    "version": 3
   },
   "file_extension": ".py",
   "mimetype": "text/x-python",
   "name": "python",
   "nbconvert_exporter": "python",
   "pygments_lexer": "ipython3",
   "version": "3.11.0"
  }
 },
 "nbformat": 4,
 "nbformat_minor": 5
}
